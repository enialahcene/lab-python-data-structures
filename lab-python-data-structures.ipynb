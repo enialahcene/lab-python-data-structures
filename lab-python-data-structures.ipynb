{
 "cells": [
  {
   "cell_type": "markdown",
   "metadata": {
    "tags": []
   },
   "source": [
    "# Lab | Data Structures "
   ]
  },
  {
   "cell_type": "markdown",
   "metadata": {},
   "source": [
    "## Exercise: Managing Customer Orders\n",
    "\n",
    "As part of a business venture, you are starting an online store that sells various products. To ensure smooth operations, you need to develop a program that manages customer orders and inventory.\n",
    "\n",
    "Follow the steps below to complete the exercise:\n",
    "\n",
    "1. Define a list called `products` that contains the following items: \"t-shirt\", \"mug\", \"hat\", \"book\", \"keychain\".\n",
    "\n",
    "2. Create an empty dictionary called `inventory`.\n",
    "\n",
    "3. Ask the user to input the quantity of each product available in the inventory. Use the product names from the `products` list as keys in the `inventory` dictionary and assign the respective quantities as values.\n",
    "\n",
    "4. Create an empty set called `customer_orders`.\n",
    "\n",
    "5. Ask the user to input the name of three products that a customer wants to order (from those in the products list, meaning three products out of \"t-shirt\", \"mug\", \"hat\", \"book\" or \"keychain\". Add each product name to the `customer_orders` set.\n",
    "\n",
    "6. Print the products in the `customer_orders` set.\n",
    "\n",
    "7. Calculate the following order statistics:\n",
    "   - Total Products Ordered: The total number of products in the `customer_orders` set.\n",
    "   - Percentage of Products Ordered: The percentage of products ordered compared to the total available products.\n",
    "   \n",
    "   Store these statistics in a tuple called `order_status`.\n",
    "\n",
    "8. Print the order statistics using the following format:\n",
    "   ```\n",
    "   Order Statistics:\n",
    "   Total Products Ordered: <total_products_ordered>\n",
    "   Percentage of Products Ordered: <percentage_ordered>% \n",
    "   ```\n",
    "\n",
    "9. Update the inventory by subtracting 1 from the quantity of each product. Modify the `inventory` dictionary accordingly.\n",
    "\n",
    "10. Print the updated inventory, displaying the quantity of each product on separate lines.\n",
    "\n",
    "Solve the exercise by implementing the steps using the Python concepts of lists, dictionaries, sets, and basic input/output operations. "
   ]
  },
  {
   "cell_type": "code",
   "execution_count": 61,
   "metadata": {},
   "outputs": [],
   "source": [
    "products = [\"t-shirt\", \"mug\", \"hat\", \"book\", \"keychain\"]"
   ]
  },
  {
   "cell_type": "code",
   "execution_count": 62,
   "metadata": {},
   "outputs": [],
   "source": [
    "inventory = {}"
   ]
  },
  {
   "cell_type": "code",
   "execution_count": 63,
   "metadata": {},
   "outputs": [],
   "source": [
    "inventory[products[0]] = int(input(f\"Give me the quantity of {products[0]}: \"))\n",
    "inventory[products[1]] = int(input(f\"Give me the quantity of {products[1]}: \"))\n",
    "inventory[products[2]] = int(input(f\"Give me the quantity of {products[2]}: \"))\n",
    "inventory[products[3]] = int(input(f\"Give me the quantity of {products[3]}: \"))\n",
    "inventory[products[4]] = int(input(f\"Give me the quantity of {products[4]}: \"))"
   ]
  },
  {
   "cell_type": "code",
   "execution_count": 64,
   "metadata": {},
   "outputs": [
    {
     "name": "stdout",
     "output_type": "stream",
     "text": [
      "{'t-shirt': 2, 'mug': 3, 'hat': 4, 'book': 1, 'keychain': 5}\n"
     ]
    }
   ],
   "source": [
    "print(inventory)"
   ]
  },
  {
   "cell_type": "code",
   "execution_count": 65,
   "metadata": {},
   "outputs": [],
   "source": [
    "customer_orders = set()"
   ]
  },
  {
   "cell_type": "code",
   "execution_count": 66,
   "metadata": {},
   "outputs": [
    {
     "name": "stdout",
     "output_type": "stream",
     "text": [
      "{'mug', 'hat', 'book'}\n"
     ]
    }
   ],
   "source": [
    "product1 = input(f\"Give me the name of a product you want to oredered it. Choose one of this list {products}\")\n",
    "product2 = input(f\"Give me the name of a product you want to oredered it. Choose one of this list {products}\")\n",
    "product3 = input(f\"Give me the name of a product you want to oredered it. Choose one of this list {products}\")\n",
    "\n",
    "customer_orders.add(product1)\n",
    "customer_orders.add(product2)\n",
    "customer_orders.add(product3)\n",
    "\n",
    "print(customer_orders)\n"
   ]
  },
  {
   "cell_type": "code",
   "execution_count": 67,
   "metadata": {},
   "outputs": [],
   "source": [
    "num_products = len(customer_orders)\n",
    "percentage = num_products/len(products)*100\n",
    "\n",
    "order_status = (num_products,percentage)\n",
    "\n"
   ]
  },
  {
   "cell_type": "code",
   "execution_count": 68,
   "metadata": {},
   "outputs": [
    {
     "name": "stdout",
     "output_type": "stream",
     "text": [
      "\n",
      "   Order Statistics:\n",
      "   Total Products Ordered: 3\n",
      "   Percentage of Products Ordered: 60.0 \n",
      "   \n"
     ]
    }
   ],
   "source": [
    "print(f'''\n",
    "   Order Statistics:\n",
    "   Total Products Ordered: {num_products}\n",
    "   Percentage of Products Ordered: {percentage} \n",
    "   ''')"
   ]
  },
  {
   "cell_type": "code",
   "execution_count": 74,
   "metadata": {},
   "outputs": [],
   "source": [
    "for product in customer_orders:\n",
    "        if inventory[product] > 0:\n",
    "            inventory[product] -= 1\n",
    "\n"
   ]
  },
  {
   "cell_type": "code",
   "execution_count": 70,
   "metadata": {},
   "outputs": [
    {
     "name": "stdout",
     "output_type": "stream",
     "text": [
      " Updated inventory: \n",
      "\n",
      "    t-shirt: 2 \n",
      "\n",
      "    mug: 2 \n",
      "\n",
      "    hat: 3 \n",
      "\n",
      "    book: 0 \n",
      "\n",
      "    keychain: 5 \n",
      "\n",
      "    \n"
     ]
    }
   ],
   "source": [
    "print(f''' Updated inventory: \\n\n",
    "    {products[0]}: {inventory[products[0]]} \\n\n",
    "    {products[1]}: {inventory[products[1]]} \\n\n",
    "    {products[2]}: {inventory[products[2]]} \\n\n",
    "    {products[3]}: {inventory[products[3]]} \\n\n",
    "    {products[4]}: {inventory[products[4]]} \\n\n",
    "    ''' )\n"
   ]
  },
  {
   "cell_type": "code",
   "execution_count": null,
   "metadata": {},
   "outputs": [],
   "source": []
  }
 ],
 "metadata": {
  "kernelspec": {
   "display_name": "Python 3 (ipykernel)",
   "language": "python",
   "name": "python3"
  },
  "language_info": {
   "codemirror_mode": {
    "name": "ipython",
    "version": 3
   },
   "file_extension": ".py",
   "mimetype": "text/x-python",
   "name": "python",
   "nbconvert_exporter": "python",
   "pygments_lexer": "ipython3",
   "version": "3.12.6"
  }
 },
 "nbformat": 4,
 "nbformat_minor": 4
}
